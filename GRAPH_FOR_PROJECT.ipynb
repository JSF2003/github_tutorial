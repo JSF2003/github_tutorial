{
 "cells": [
  {
   "cell_type": "code",
   "execution_count": 1,
   "id": "f524bfdf",
   "metadata": {},
   "outputs": [],
   "source": [
    "import pandas as pd\n",
    "import matplotlib.pyplot as plt\n",
    "import seaborn as sns\n",
    "import plotly.express as px"
   ]
  },
  {
   "cell_type": "code",
   "execution_count": 2,
   "id": "2602c124",
   "metadata": {},
   "outputs": [],
   "source": [
    "df = pd.read_csv('survey_results_public.csv')"
   ]
  },
  {
   "cell_type": "code",
   "execution_count": 3,
   "id": "28989673",
   "metadata": {},
   "outputs": [],
   "source": [
    "def age_convert(age_string):\n",
    "    age_first_part = str(age_string).split('-')[0]\n",
    "    return age_first_part"
   ]
  },
  {
   "cell_type": "code",
   "execution_count": 4,
   "id": "0f1c888d",
   "metadata": {},
   "outputs": [],
   "source": [
    "df['Age'] = df['Age'].apply(lambda age_object: str(age_object).split('-')[0])"
   ]
  },
  {
   "cell_type": "code",
   "execution_count": 5,
   "id": "5e67c9b1",
   "metadata": {},
   "outputs": [],
   "source": [
    "df['Age']= pd.to_numeric(df['Age'],errors='coerce')"
   ]
  },
  {
   "cell_type": "code",
   "execution_count": 6,
   "id": "055d3ed3",
   "metadata": {},
   "outputs": [],
   "source": [
    "pd.set_option(\"display.max_rows\", None)"
   ]
  },
  {
   "cell_type": "code",
   "execution_count": 7,
   "id": "4778f55e",
   "metadata": {},
   "outputs": [
    {
     "data": {
      "text/plain": [
       "United States of America                                15288\n",
       "India                                                   10511\n",
       "Germany                                                  5625\n",
       "United Kingdom of Great Britain and Northern Ireland     4475\n",
       "Canada                                                   3012\n",
       "France                                                   2708\n",
       "Brazil                                                   2254\n",
       "Poland                                                   1805\n",
       "Netherlands                                              1772\n",
       "Italy                                                    1666\n",
       "Australia                                                1646\n",
       "Spain                                                    1485\n",
       "Russian Federation                                       1474\n",
       "Sweden                                                   1196\n",
       "China                                                    1055\n",
       "Turkey                                                   1054\n",
       "Switzerland                                               922\n",
       "Israel                                                    913\n",
       "Iran, Islamic Republic of...                              900\n",
       "Pakistan                                                  838\n",
       "Austria                                                   808\n",
       "Czech Republic                                            792\n",
       "Ukraine                                                   770\n",
       "Bangladesh                                                704\n",
       "Belgium                                                   697\n",
       "Mexico                                                    695\n",
       "Romania                                                   650\n",
       "Indonesia                                                 632\n",
       "Greece                                                    603\n",
       "Norway                                                    602\n",
       "Denmark                                                   599\n",
       "Argentina                                                 587\n",
       "South Africa                                              571\n",
       "Portugal                                                  530\n",
       "Finland                                                   528\n",
       "New Zealand                                               522\n",
       "Egypt                                                     521\n",
       "Hungary                                                   478\n",
       "Japan                                                     429\n",
       "Nigeria                                                   409\n",
       "Bulgaria                                                  402\n",
       "Sri Lanka                                                 396\n",
       "Viet Nam                                                  386\n",
       "Ireland                                                   386\n",
       "Philippines                                               382\n",
       "Colombia                                                  381\n",
       "Singapore                                                 339\n",
       "Nepal                                                     337\n",
       "Malaysia                                                  333\n",
       "Serbia                                                    310\n",
       "Taiwan                                                    302\n",
       "Kenya                                                     263\n",
       "Slovakia                                                  252\n",
       "Croatia                                                   250\n",
       "Slovenia                                                  235\n",
       "Chile                                                     230\n",
       "Lithuania                                                 208\n",
       "Morocco                                                   204\n",
       "Hong Kong (S.A.R.)                                        198\n",
       "South Korea                                               189\n",
       "Thailand                                                  184\n",
       "United Arab Emirates                                      182\n",
       "Belarus                                                   165\n",
       "Georgia                                                   161\n",
       "Tunisia                                                   150\n",
       "Peru                                                      147\n",
       "Uruguay                                                   144\n",
       "Saudi Arabia                                              137\n",
       "Bosnia and Herzegovina                                    130\n",
       "Estonia                                                   130\n",
       "Lebanon                                                   113\n",
       "Latvia                                                    107\n",
       "Dominican Republic                                        104\n",
       "Venezuela, Bolivarian Republic of...                      104\n",
       "Ecuador                                                   103\n",
       "Armenia                                                    92\n",
       "Ghana                                                      91\n",
       "Costa Rica                                                 77\n",
       "Iraq                                                       76\n",
       "Albania                                                    73\n",
       "Jordan                                                     72\n",
       "Ethiopia                                                   69\n",
       "Uzbekistan                                                 68\n",
       "Afghanistan                                                65\n",
       "Kazakhstan                                                 65\n",
       "Azerbaijan                                                 64\n",
       "Uganda                                                     63\n",
       "Guatemala                                                  58\n",
       "Cyprus                                                     56\n",
       "Myanmar                                                    55\n",
       "Republic of Moldova                                        55\n",
       "Republic of Korea                                          54\n",
       "Nomadic                                                    54\n",
       "The former Yugoslav Republic of Macedonia                  54\n",
       "Luxembourg                                                 51\n",
       "Syrian Arab Republic                                       51\n",
       "Bolivia                                                    48\n",
       "Paraguay                                                   47\n",
       "Algeria                                                    46\n",
       "Kosovo                                                     45\n",
       "United Republic of Tanzania                                43\n",
       "Iceland                                                    43\n",
       "Malta                                                      42\n",
       "Cameroon                                                   38\n",
       "Zimbabwe                                                   36\n",
       "Cambodia                                                   35\n",
       "Rwanda                                                     34\n",
       "Cuba                                                       34\n",
       "El Salvador                                                32\n",
       "Panama                                                     31\n",
       "Mauritius                                                  31\n",
       "Qatar                                                      29\n",
       "Kuwait                                                     29\n",
       "Bahrain                                                    28\n",
       "Senegal                                                    28\n",
       "Angola                                                     27\n",
       "Sudan                                                      27\n",
       "Palestine                                                  25\n",
       "Honduras                                                   24\n",
       "Zambia                                                     22\n",
       "Mongolia                                                   21\n",
       "Kyrgyzstan                                                 21\n",
       "Jamaica                                                    20\n",
       "Trinidad and Tobago                                        20\n",
       "Yemen                                                      20\n",
       "Oman                                                       20\n",
       "Nicaragua                                                  18\n",
       "Madagascar                                                 18\n",
       "Montenegro                                                 17\n",
       "Côte d'Ivoire                                              17\n",
       "Maldives                                                   16\n",
       "Benin                                                      15\n",
       "Turkmenistan                                               13\n",
       "Mozambique                                                 12\n",
       "Namibia                                                    12\n",
       "Andorra                                                    12\n",
       "Barbados                                                   12\n",
       "Congo, Republic of the...                                  12\n",
       "Libyan Arab Jamahiriya                                     11\n",
       "Malawi                                                     11\n",
       "Democratic Republic of the Congo                           10\n",
       "Swaziland                                                  10\n",
       "Tajikistan                                                  9\n",
       "Bahamas                                                     7\n",
       "Togo                                                        7\n",
       "Somalia                                                     7\n",
       "Guyana                                                      7\n",
       "Botswana                                                    6\n",
       "Cape Verde                                                  6\n",
       "North Korea                                                 6\n",
       "Haiti                                                       5\n",
       "Belize                                                      5\n",
       "Isle of Man                                                 5\n",
       "Mauritania                                                  5\n",
       "Bhutan                                                      5\n",
       "Suriname                                                    5\n",
       "Burundi                                                     5\n",
       "Fiji                                                        4\n",
       "Burkina Faso                                                4\n",
       "Lesotho                                                     4\n",
       "Lao People's Democratic Republic                            4\n",
       "Niger                                                       3\n",
       "Central African Republic                                    3\n",
       "Liberia                                                     3\n",
       "Saint Lucia                                                 3\n",
       "Djibouti                                                    3\n",
       "San Marino                                                  2\n",
       "Guinea                                                      2\n",
       "Sierra Leone                                                2\n",
       "Micronesia, Federated States of...                          2\n",
       "Chad                                                        2\n",
       "Gambia                                                      2\n",
       "Monaco                                                      2\n",
       "Mali                                                        2\n",
       "Brunei Darussalam                                           1\n",
       "Liechtenstein                                               1\n",
       "Saint Kitts and Nevis                                       1\n",
       "Dominica                                                    1\n",
       "Saint Vincent and the Grenadines                            1\n",
       "Tuvalu                                                      1\n",
       "Papua New Guinea                                            1\n",
       "Name: Country, dtype: int64"
      ]
     },
     "execution_count": 7,
     "metadata": {},
     "output_type": "execute_result"
    }
   ],
   "source": [
    "df['Country'].value_counts()"
   ]
  },
  {
   "cell_type": "code",
   "execution_count": 8,
   "id": "b09dbefb",
   "metadata": {},
   "outputs": [
    {
     "data": {
      "text/plain": [
       "Country\n",
       "Canada                                                   75631.0\n",
       "France                                                   48936.0\n",
       "Germany                                                  64859.0\n",
       "India                                                    14748.0\n",
       "United Kingdom of Great Britain and Northern Ireland     74970.0\n",
       "United States of America                                125000.0\n",
       "Name: ConvertedCompYearly, dtype: float64"
      ]
     },
     "execution_count": 8,
     "metadata": {},
     "output_type": "execute_result"
    }
   ],
   "source": [
    "df_countries = df.loc[df['Country'].isin(['United States of America','United Kingdom of Great Britain and Northern Ireland','Canada','Germany','India', 'France'])]\n",
    "\n",
    "df_countries.groupby('Country')['ConvertedCompYearly'].median()"
   ]
  },
  {
   "cell_type": "code",
   "execution_count": 9,
   "id": "53fd834a",
   "metadata": {},
   "outputs": [
    {
     "data": {
      "text/html": [
       "<div>\n",
       "<style scoped>\n",
       "    .dataframe tbody tr th:only-of-type {\n",
       "        vertical-align: middle;\n",
       "    }\n",
       "\n",
       "    .dataframe tbody tr th {\n",
       "        vertical-align: top;\n",
       "    }\n",
       "\n",
       "    .dataframe thead th {\n",
       "        text-align: right;\n",
       "    }\n",
       "</style>\n",
       "<table border=\"1\" class=\"dataframe\">\n",
       "  <thead>\n",
       "    <tr style=\"text-align: right;\">\n",
       "      <th></th>\n",
       "      <th>median</th>\n",
       "      <th>mean</th>\n",
       "    </tr>\n",
       "    <tr>\n",
       "      <th>Country</th>\n",
       "      <th></th>\n",
       "      <th></th>\n",
       "    </tr>\n",
       "  </thead>\n",
       "  <tbody>\n",
       "    <tr>\n",
       "      <th>Canada</th>\n",
       "      <td>75631.0</td>\n",
       "      <td>135732.563006</td>\n",
       "    </tr>\n",
       "    <tr>\n",
       "      <th>France</th>\n",
       "      <td>48936.0</td>\n",
       "      <td>90213.514670</td>\n",
       "    </tr>\n",
       "    <tr>\n",
       "      <th>Germany</th>\n",
       "      <td>64859.0</td>\n",
       "      <td>103014.516754</td>\n",
       "    </tr>\n",
       "    <tr>\n",
       "      <th>India</th>\n",
       "      <td>14748.0</td>\n",
       "      <td>42522.583464</td>\n",
       "    </tr>\n",
       "    <tr>\n",
       "      <th>United Kingdom of Great Britain and Northern Ireland</th>\n",
       "      <td>74970.0</td>\n",
       "      <td>141688.554608</td>\n",
       "    </tr>\n",
       "    <tr>\n",
       "      <th>United States of America</th>\n",
       "      <td>125000.0</td>\n",
       "      <td>262993.898480</td>\n",
       "    </tr>\n",
       "  </tbody>\n",
       "</table>\n",
       "</div>"
      ],
      "text/plain": [
       "                                                      median           mean\n",
       "Country                                                                    \n",
       "Canada                                               75631.0  135732.563006\n",
       "France                                               48936.0   90213.514670\n",
       "Germany                                              64859.0  103014.516754\n",
       "India                                                14748.0   42522.583464\n",
       "United Kingdom of Great Britain and Northern Ir...   74970.0  141688.554608\n",
       "United States of America                            125000.0  262993.898480"
      ]
     },
     "execution_count": 9,
     "metadata": {},
     "output_type": "execute_result"
    }
   ],
   "source": [
    "df_countries.groupby('Country')['ConvertedCompYearly'].agg(['median','mean'])"
   ]
  },
  {
   "cell_type": "code",
   "execution_count": 10,
   "id": "f3bd84ca",
   "metadata": {},
   "outputs": [
    {
     "name": "stdout",
     "output_type": "stream",
     "text": [
      "Hello World\n"
     ]
    }
   ],
   "source": [
    "print('Hello World')"
   ]
  },
  {
   "cell_type": "code",
   "execution_count": 11,
   "id": "1b90a022",
   "metadata": {},
   "outputs": [
    {
     "data": {
      "text/plain": [
       "(808, 48)"
      ]
     },
     "execution_count": 11,
     "metadata": {},
     "output_type": "execute_result"
    }
   ],
   "source": [
    "Austria_df = df[df['Country']=='Austria']\n",
    "Austria_df.shape"
   ]
  },
  {
   "cell_type": "code",
   "execution_count": 29,
   "id": "4d96aed1",
   "metadata": {},
   "outputs": [],
   "source": [
    "df['Gender']= pd.to_numeric(df['Gender'],errors='coerce')"
   ]
  },
  {
   "cell_type": "code",
   "execution_count": 30,
   "id": "9cf400e8",
   "metadata": {},
   "outputs": [
    {
     "data": {
      "text/plain": [
       "42"
      ]
     },
     "execution_count": 30,
     "metadata": {},
     "output_type": "execute_result"
    }
   ],
   "source": [
    "Gender_Users_Austria = Austria_df['Gender'].str.contains('Man' and 'Woman').value_counts()[True]\n",
    "Gender_Users_Austria"
   ]
  },
  {
   "cell_type": "code",
   "execution_count": 31,
   "id": "4f443444",
   "metadata": {},
   "outputs": [
    {
     "data": {
      "text/plain": [
       "dtype('float64')"
      ]
     },
     "execution_count": 31,
     "metadata": {},
     "output_type": "execute_result"
    }
   ],
   "source": [
    "df['Gender'].dtypes"
   ]
  },
  {
   "cell_type": "code",
   "execution_count": 32,
   "id": "5b620fad",
   "metadata": {},
   "outputs": [
    {
     "data": {
      "text/plain": [
       "dtype('float64')"
      ]
     },
     "execution_count": 32,
     "metadata": {},
     "output_type": "execute_result"
    }
   ],
   "source": [
    "df['Age'].dtypes"
   ]
  },
  {
   "cell_type": "code",
   "execution_count": 37,
   "id": "e0ec9e26",
   "metadata": {},
   "outputs": [
    {
     "data": {
      "text/plain": [
       "dtype('O')"
      ]
     },
     "execution_count": 37,
     "metadata": {},
     "output_type": "execute_result"
    }
   ],
   "source": [
    "df['Trans'].dtypes"
   ]
  },
  {
   "cell_type": "code",
   "execution_count": 38,
   "id": "2bc6cff7",
   "metadata": {},
   "outputs": [],
   "source": [
    "df['Trans'] = df['Trans'].astype(str)"
   ]
  },
  {
   "cell_type": "code",
   "execution_count": 40,
   "id": "bec24f8c",
   "metadata": {},
   "outputs": [
    {
     "data": {
      "image/png": "[encoded data removed]",
      "text/plain": [
       "<Figure size 1440x1080 with 1 Axes>"
      ]
     },
     "metadata": {
      "needs_background": "light"
     },
     "output_type": "display_data"
    }
   ],
   "source": [
    "plt.rcParams[\"figure.figsize\"] = (20,15)\n",
    "\n",
    "sns.barplot(x = 'Trans', y = 'ConvertedCompYearly', data = Austria_df)\n",
    "sns.despine(left=True)"
   ]
  },
  {
   "cell_type": "code",
   "execution_count": 13,
   "id": "35db6b12",
   "metadata": {},
   "outputs": [],
   "source": [
    "median_salaries = df_countries.groupby('Country')['ConvertedCompYearly'].median()"
   ]
  },
  {
   "cell_type": "code",
   "execution_count": 14,
   "id": "7dd415e0",
   "metadata": {},
   "outputs": [
    {
     "name": "stderr",
     "output_type": "stream",
     "text": [
      "C:\\Users\\Jonathan Freeman\\AppData\\Local\\Temp\\ipykernel_39836\\1745022124.py:2: FutureWarning: Dropping of nuisance columns in DataFrame reductions (with 'numeric_only=None') is deprecated; in a future version this will raise TypeError.  Select only valid columns before calling the reduction.\n",
      "  converted_austria = converted_comp_austria.median()\n"
     ]
    }
   ],
   "source": [
    "converted_comp_austria = df.loc[df['Country'].isin(['Austria'])]\n",
    "converted_austria = converted_comp_austria.median()"
   ]
  },
  {
   "cell_type": "code",
   "execution_count": null,
   "id": "f9c349a0",
   "metadata": {},
   "outputs": [],
   "source": [
    "df['']= pd.to_numeric(df['Age'],errors='coerce')"
   ]
  },
  {
   "cell_type": "code",
   "execution_count": 21,
   "id": "4889ebb0",
   "metadata": {},
   "outputs": [
    {
     "data": {
      "text/plain": [
       "dtype('O')"
      ]
     },
     "execution_count": 21,
     "metadata": {},
     "output_type": "execute_result"
    }
   ],
   "source": [
    "df['Gender'].dtypes"
   ]
  }
 ],
 "metadata": {
  "kernelspec": {
   "display_name": "Python 3 (ipykernel)",
   "language": "python",
   "name": "python3"
  },
  "language_info": {
   "codemirror_mode": {
    "name": "ipython",
    "version": 3
   },
   "file_extension": ".py",
   "mimetype": "text/x-python",
   "name": "python",
   "nbconvert_exporter": "python",
   "pygments_lexer": "ipython3",
   "version": "3.9.12"
  }
 },
 "nbformat": 4,
 "nbformat_minor": 5
}
