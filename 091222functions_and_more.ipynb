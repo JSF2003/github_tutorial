{
 "cells": [
  {
   "cell_type": "code",
   "execution_count": 1,
   "id": "893b6928",
   "metadata": {},
   "outputs": [
    {
     "data": {
      "text/plain": [
       "range(1, 11)"
      ]
     },
     "execution_count": 1,
     "metadata": {},
     "output_type": "execute_result"
    }
   ],
   "source": [
    "range(1,11)"
   ]
  },
  {
   "cell_type": "code",
   "execution_count": 2,
   "id": "2e742b1e",
   "metadata": {},
   "outputs": [
    {
     "data": {
      "text/plain": [
       "range(1, 11, 2)"
      ]
     },
     "execution_count": 2,
     "metadata": {},
     "output_type": "execute_result"
    }
   ],
   "source": [
    "range(1,11,2)"
   ]
  },
  {
   "cell_type": "code",
   "execution_count": 3,
   "id": "1bca9ffc",
   "metadata": {},
   "outputs": [
    {
     "name": "stdout",
     "output_type": "stream",
     "text": [
      "1\n",
      "2\n",
      "3\n",
      "4\n",
      "5\n",
      "6\n",
      "7\n",
      "8\n",
      "9\n",
      "10\n"
     ]
    }
   ],
   "source": [
    "for num in range(1,11):\n",
    "    print (num)"
   ]
  },
  {
   "cell_type": "code",
   "execution_count": 4,
   "id": "25456efc",
   "metadata": {},
   "outputs": [
    {
     "name": "stdout",
     "output_type": "stream",
     "text": [
      "1\n",
      "3\n",
      "5\n",
      "7\n",
      "9\n"
     ]
    }
   ],
   "source": [
    "for num in range(1,11,2):\n",
    "    print (num)"
   ]
  },
  {
   "cell_type": "code",
   "execution_count": 5,
   "id": "1bea88fc",
   "metadata": {},
   "outputs": [
    {
     "name": "stdout",
     "output_type": "stream",
     "text": [
      "1\n",
      "2\n",
      "3\n",
      "4\n",
      "5\n",
      "6\n",
      "7\n",
      "8\n",
      "9\n",
      "10\n"
     ]
    }
   ],
   "source": [
    "for _ in range (1,11):\n",
    "    print (_)"
   ]
  },
  {
   "cell_type": "code",
   "execution_count": 9,
   "id": "2c45e97b",
   "metadata": {},
   "outputs": [
    {
     "name": "stdout",
     "output_type": "stream",
     "text": [
      "1\n",
      "9\n",
      "25\n",
      "49\n",
      "81\n"
     ]
    }
   ],
   "source": [
    "for num in range (1,11,2):\n",
    "    print(num**2)"
   ]
  },
  {
   "cell_type": "code",
   "execution_count": 13,
   "id": "3fab9347",
   "metadata": {},
   "outputs": [
    {
     "name": "stdout",
     "output_type": "stream",
     "text": [
      "Odd number\n",
      "Even number\n",
      "Odd number\n",
      "Even number\n",
      "Odd number\n",
      "Even number\n",
      "Odd number\n",
      "Even number\n",
      "Odd number\n",
      "Even number\n"
     ]
    }
   ],
   "source": [
    "for num in range(1,11):\n",
    "    if num %2 == 0:\n",
    "        print ('Even number')\n",
    "    else:\n",
    "        print('Odd number')"
   ]
  },
  {
   "cell_type": "code",
   "execution_count": 14,
   "id": "f8235d45",
   "metadata": {},
   "outputs": [
    {
     "name": "stdout",
     "output_type": "stream",
     "text": [
      "1\n",
      "2\n",
      "3\n",
      "4\n",
      "5\n",
      "6\n",
      "7\n",
      "8\n",
      "9\n",
      "10\n"
     ]
    }
   ],
   "source": [
    "num = 1\n",
    "while num <11:\n",
    "    print(num)\n",
    "    num += 1"
   ]
  },
  {
   "cell_type": "code",
   "execution_count": null,
   "id": "efb08ddd",
   "metadata": {},
   "outputs": [],
   "source": [
    "num = 1\n",
    "while num <11:\n",
    "    if num %2 == 0:\n",
    "        print('Even number')\n",
    "    else:\n",
    "        print('Odd number')\n",
    "    num += 1"
   ]
  },
  {
   "cell_type": "code",
   "execution_count": null,
   "id": "da9106ca",
   "metadata": {},
   "outputs": [],
   "source": [
    "[print('Even Number') if num%2 == 0 else print('Odd number') for num in range(11)]"
   ]
  },
  {
   "cell_type": "code",
   "execution_count": 4,
   "id": "b2d98177",
   "metadata": {},
   "outputs": [
    {
     "name": "stdout",
     "output_type": "stream",
     "text": [
      "[1, 4, 9, 16, 25, 36, 49, 64, 81, 100]\n"
     ]
    }
   ],
   "source": [
    "my_list = []\n",
    "for num in range(1,11):\n",
    "    my_list.append(num**2)\n",
    "    num += 1\n",
    "print(my_list)"
   ]
  },
  {
   "cell_type": "code",
   "execution_count": 5,
   "id": "86ddc5b1",
   "metadata": {},
   "outputs": [
    {
     "data": {
      "text/plain": [
       "[0, 1, 4, 9, 16, 25, 36, 49, 64, 81, 100]"
      ]
     },
     "execution_count": 5,
     "metadata": {},
     "output_type": "execute_result"
    }
   ],
   "source": [
    "[num**2 for num in range(11)]"
   ]
  },
  {
   "cell_type": "code",
   "execution_count": 6,
   "id": "8fde1404",
   "metadata": {},
   "outputs": [
    {
     "data": {
      "text/plain": [
       "[0, 3, 6, 9]"
      ]
     },
     "execution_count": 6,
     "metadata": {},
     "output_type": "execute_result"
    }
   ],
   "source": [
    "[num*3 for num in range (4)]"
   ]
  },
  {
   "cell_type": "code",
   "execution_count": 8,
   "id": "ec74dcfc",
   "metadata": {},
   "outputs": [
    {
     "data": {
      "text/plain": [
       "[[0, 3, 6, 9], [0, 3, 6, 9], [0, 3, 6, 9], [0, 3, 6, 9], [0, 3, 6, 9]]"
      ]
     },
     "execution_count": 8,
     "metadata": {},
     "output_type": "execute_result"
    }
   ],
   "source": [
    "[[num*3 for num in range (4)] for num in range(5)]"
   ]
  },
  {
   "cell_type": "code",
   "execution_count": 9,
   "id": "74f18286",
   "metadata": {},
   "outputs": [],
   "source": [
    "name = ['Moussa','Sall','Idris','George']"
   ]
  },
  {
   "cell_type": "code",
   "execution_count": 10,
   "id": "59251bb0",
   "metadata": {},
   "outputs": [],
   "source": [
    "dico = {k:v for k,v in enumerate (name)}"
   ]
  },
  {
   "cell_type": "code",
   "execution_count": 11,
   "id": "b7a1e852",
   "metadata": {},
   "outputs": [
    {
     "data": {
      "text/plain": [
       "{0: 'Moussa', 1: 'Sall', 2: 'Idris', 3: 'George'}"
      ]
     },
     "execution_count": 11,
     "metadata": {},
     "output_type": "execute_result"
    }
   ],
   "source": [
    "dico"
   ]
  },
  {
   "cell_type": "code",
   "execution_count": 16,
   "id": "9fe8abe0",
   "metadata": {},
   "outputs": [],
   "source": [
    "gpa = [4,3.9,3.8,3.5]"
   ]
  },
  {
   "cell_type": "code",
   "execution_count": 17,
   "id": "ccd8a618",
   "metadata": {},
   "outputs": [
    {
     "data": {
      "text/plain": [
       "{'Moussa': 4, 'Sall': 3.9, 'Idris': 3.8, 'George': 3.5}"
      ]
     },
     "execution_count": 17,
     "metadata": {},
     "output_type": "execute_result"
    }
   ],
   "source": [
    "name_gpa = {k:v for k,v in zip(name,gpa)}\n",
    "name_gpa"
   ]
  },
  {
   "cell_type": "code",
   "execution_count": 18,
   "id": "56e5eb3e",
   "metadata": {},
   "outputs": [
    {
     "data": {
      "text/plain": [
       "[[0, 1, 16, 81, 256],\n",
       " [0, 1, 16, 81, 256],\n",
       " [0, 1, 16, 81, 256],\n",
       " [0, 1, 16, 81, 256],\n",
       " [0, 1, 16, 81, 256],\n",
       " [0, 1, 16, 81, 256],\n",
       " [0, 1, 16, 81, 256],\n",
       " [0, 1, 16, 81, 256],\n",
       " [0, 1, 16, 81, 256],\n",
       " [0, 1, 16, 81, 256]]"
      ]
     },
     "execution_count": 18,
     "metadata": {},
     "output_type": "execute_result"
    }
   ],
   "source": [
    "[[num**4 for num in range(5)] for num in range (10)]"
   ]
  },
  {
   "cell_type": "code",
   "execution_count": 20,
   "id": "b79c777f",
   "metadata": {},
   "outputs": [],
   "source": [
    "fruit = ['Strawberry','Banana','Blueberry','Apple']"
   ]
  },
  {
   "cell_type": "code",
   "execution_count": 22,
   "id": "58b41ed4",
   "metadata": {},
   "outputs": [],
   "source": [
    "rating = [5,6,7,8]"
   ]
  },
  {
   "cell_type": "code",
   "execution_count": 24,
   "id": "e58f42f0",
   "metadata": {},
   "outputs": [
    {
     "data": {
      "text/plain": [
       "{'Strawberry': 5, 'Banana': 6, 'Blueberry': 7, 'Apple': 8}"
      ]
     },
     "execution_count": 24,
     "metadata": {},
     "output_type": "execute_result"
    }
   ],
   "source": [
    "fruit_rating = {k:v for k,v in zip(fruit,rating)}\n",
    "fruit_rating"
   ]
  },
  {
   "cell_type": "code",
   "execution_count": 25,
   "id": "f07dedc4",
   "metadata": {},
   "outputs": [
    {
     "data": {
      "text/plain": [
       "1.4142135623730951"
      ]
     },
     "execution_count": 25,
     "metadata": {},
     "output_type": "execute_result"
    }
   ],
   "source": [
    "def square_root_func(num):\n",
    "    result = num**0.5\n",
    "    return result\n",
    "square_root_func(2)"
   ]
  },
  {
   "cell_type": "code",
   "execution_count": 28,
   "id": "768b99ca",
   "metadata": {},
   "outputs": [
    {
     "data": {
      "text/plain": [
       "[1, 4, 9, 16, 25, 36, 49, 64, 81, 100]"
      ]
     },
     "execution_count": 28,
     "metadata": {},
     "output_type": "execute_result"
    }
   ],
   "source": [
    "def square_func(val):\n",
    "    my_list = []\n",
    "    for val in range(11):\n",
    "        my_list.append(val**2)\n",
    "        val += 1\n",
    "    return result\n",
    "my_list"
   ]
  },
  {
   "cell_type": "code",
   "execution_count": null,
   "id": "05d4a83e",
   "metadata": {},
   "outputs": [],
   "source": []
  }
 ],
 "metadata": {
  "kernelspec": {
   "display_name": "Python 3 (ipykernel)",
   "language": "python",
   "name": "python3"
  },
  "language_info": {
   "codemirror_mode": {
    "name": "ipython",
    "version": 3
   },
   "file_extension": ".py",
   "mimetype": "text/x-python",
   "name": "python",
   "nbconvert_exporter": "python",
   "pygments_lexer": "ipython3",
   "version": "3.9.12"
  }
 },
 "nbformat": 4,
 "nbformat_minor": 5
}
