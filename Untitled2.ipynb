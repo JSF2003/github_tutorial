{
 "cells": [
  {
   "cell_type": "code",
   "execution_count": 3,
   "id": "24678bf2",
   "metadata": {},
   "outputs": [],
   "source": [
    "import pandas as pd\n",
    "import numpy as np\n",
    "import os\n",
    "import seaborn as sns\n",
    "import matplotlib.pyplot as plt\n",
    "%matplotlib inline"
   ]
  },
  {
   "cell_type": "code",
   "execution_count": 4,
   "id": "040667c2",
   "metadata": {},
   "outputs": [],
   "source": [
    "from matplotlib import pyplot as plt\n",
    "from matplotlib.ticker import FuncFormatter"
   ]
  },
  {
   "cell_type": "code",
   "execution_count": 19,
   "id": "a5f6404a",
   "metadata": {},
   "outputs": [
    {
     "ename": "ValueError",
     "evalue": "No objects to concatenate",
     "output_type": "error",
     "traceback": [
      "\u001b[1;31m---------------------------------------------------------------------------\u001b[0m",
      "\u001b[1;31mValueError\u001b[0m                                Traceback (most recent call last)",
      "Input \u001b[1;32mIn [19]\u001b[0m, in \u001b[0;36m<cell line: 10>\u001b[1;34m()\u001b[0m\n\u001b[0;32m      8\u001b[0m     \u001b[38;5;28;01melse\u001b[39;00m:\n\u001b[0;32m      9\u001b[0m         \u001b[38;5;28;01mcontinue\u001b[39;00m\n\u001b[1;32m---> 10\u001b[0m names_data \u001b[38;5;241m=\u001b[39m \u001b[43mpd\u001b[49m\u001b[38;5;241;43m.\u001b[39;49m\u001b[43mconcat\u001b[49m\u001b[43m(\u001b[49m\u001b[43mnames_data_list\u001b[49m\u001b[43m)\u001b[49m\n",
      "File \u001b[1;32m~\\anaconda3\\lib\\site-packages\\pandas\\util\\_decorators.py:311\u001b[0m, in \u001b[0;36mdeprecate_nonkeyword_arguments.<locals>.decorate.<locals>.wrapper\u001b[1;34m(*args, **kwargs)\u001b[0m\n\u001b[0;32m    305\u001b[0m \u001b[38;5;28;01mif\u001b[39;00m \u001b[38;5;28mlen\u001b[39m(args) \u001b[38;5;241m>\u001b[39m num_allow_args:\n\u001b[0;32m    306\u001b[0m     warnings\u001b[38;5;241m.\u001b[39mwarn(\n\u001b[0;32m    307\u001b[0m         msg\u001b[38;5;241m.\u001b[39mformat(arguments\u001b[38;5;241m=\u001b[39marguments),\n\u001b[0;32m    308\u001b[0m         \u001b[38;5;167;01mFutureWarning\u001b[39;00m,\n\u001b[0;32m    309\u001b[0m         stacklevel\u001b[38;5;241m=\u001b[39mstacklevel,\n\u001b[0;32m    310\u001b[0m     )\n\u001b[1;32m--> 311\u001b[0m \u001b[38;5;28;01mreturn\u001b[39;00m func(\u001b[38;5;241m*\u001b[39margs, \u001b[38;5;241m*\u001b[39m\u001b[38;5;241m*\u001b[39mkwargs)\n",
      "File \u001b[1;32m~\\anaconda3\\lib\\site-packages\\pandas\\core\\reshape\\concat.py:347\u001b[0m, in \u001b[0;36mconcat\u001b[1;34m(objs, axis, join, ignore_index, keys, levels, names, verify_integrity, sort, copy)\u001b[0m\n\u001b[0;32m    143\u001b[0m \u001b[38;5;129m@deprecate_nonkeyword_arguments\u001b[39m(version\u001b[38;5;241m=\u001b[39m\u001b[38;5;28;01mNone\u001b[39;00m, allowed_args\u001b[38;5;241m=\u001b[39m[\u001b[38;5;124m\"\u001b[39m\u001b[38;5;124mobjs\u001b[39m\u001b[38;5;124m\"\u001b[39m])\n\u001b[0;32m    144\u001b[0m \u001b[38;5;28;01mdef\u001b[39;00m \u001b[38;5;21mconcat\u001b[39m(\n\u001b[0;32m    145\u001b[0m     objs: Iterable[NDFrame] \u001b[38;5;241m|\u001b[39m Mapping[Hashable, NDFrame],\n\u001b[1;32m   (...)\u001b[0m\n\u001b[0;32m    154\u001b[0m     copy: \u001b[38;5;28mbool\u001b[39m \u001b[38;5;241m=\u001b[39m \u001b[38;5;28;01mTrue\u001b[39;00m,\n\u001b[0;32m    155\u001b[0m ) \u001b[38;5;241m-\u001b[39m\u001b[38;5;241m>\u001b[39m DataFrame \u001b[38;5;241m|\u001b[39m Series:\n\u001b[0;32m    156\u001b[0m     \u001b[38;5;124;03m\"\"\"\u001b[39;00m\n\u001b[0;32m    157\u001b[0m \u001b[38;5;124;03m    Concatenate pandas objects along a particular axis with optional set logic\u001b[39;00m\n\u001b[0;32m    158\u001b[0m \u001b[38;5;124;03m    along the other axes.\u001b[39;00m\n\u001b[1;32m   (...)\u001b[0m\n\u001b[0;32m    345\u001b[0m \u001b[38;5;124;03m    ValueError: Indexes have overlapping values: ['a']\u001b[39;00m\n\u001b[0;32m    346\u001b[0m \u001b[38;5;124;03m    \"\"\"\u001b[39;00m\n\u001b[1;32m--> 347\u001b[0m     op \u001b[38;5;241m=\u001b[39m \u001b[43m_Concatenator\u001b[49m\u001b[43m(\u001b[49m\n\u001b[0;32m    348\u001b[0m \u001b[43m        \u001b[49m\u001b[43mobjs\u001b[49m\u001b[43m,\u001b[49m\n\u001b[0;32m    349\u001b[0m \u001b[43m        \u001b[49m\u001b[43maxis\u001b[49m\u001b[38;5;241;43m=\u001b[39;49m\u001b[43maxis\u001b[49m\u001b[43m,\u001b[49m\n\u001b[0;32m    350\u001b[0m \u001b[43m        \u001b[49m\u001b[43mignore_index\u001b[49m\u001b[38;5;241;43m=\u001b[39;49m\u001b[43mignore_index\u001b[49m\u001b[43m,\u001b[49m\n\u001b[0;32m    351\u001b[0m \u001b[43m        \u001b[49m\u001b[43mjoin\u001b[49m\u001b[38;5;241;43m=\u001b[39;49m\u001b[43mjoin\u001b[49m\u001b[43m,\u001b[49m\n\u001b[0;32m    352\u001b[0m \u001b[43m        \u001b[49m\u001b[43mkeys\u001b[49m\u001b[38;5;241;43m=\u001b[39;49m\u001b[43mkeys\u001b[49m\u001b[43m,\u001b[49m\n\u001b[0;32m    353\u001b[0m \u001b[43m        \u001b[49m\u001b[43mlevels\u001b[49m\u001b[38;5;241;43m=\u001b[39;49m\u001b[43mlevels\u001b[49m\u001b[43m,\u001b[49m\n\u001b[0;32m    354\u001b[0m \u001b[43m        \u001b[49m\u001b[43mnames\u001b[49m\u001b[38;5;241;43m=\u001b[39;49m\u001b[43mnames\u001b[49m\u001b[43m,\u001b[49m\n\u001b[0;32m    355\u001b[0m \u001b[43m        \u001b[49m\u001b[43mverify_integrity\u001b[49m\u001b[38;5;241;43m=\u001b[39;49m\u001b[43mverify_integrity\u001b[49m\u001b[43m,\u001b[49m\n\u001b[0;32m    356\u001b[0m \u001b[43m        \u001b[49m\u001b[43mcopy\u001b[49m\u001b[38;5;241;43m=\u001b[39;49m\u001b[43mcopy\u001b[49m\u001b[43m,\u001b[49m\n\u001b[0;32m    357\u001b[0m \u001b[43m        \u001b[49m\u001b[43msort\u001b[49m\u001b[38;5;241;43m=\u001b[39;49m\u001b[43msort\u001b[49m\u001b[43m,\u001b[49m\n\u001b[0;32m    358\u001b[0m \u001b[43m    \u001b[49m\u001b[43m)\u001b[49m\n\u001b[0;32m    360\u001b[0m     \u001b[38;5;28;01mreturn\u001b[39;00m op\u001b[38;5;241m.\u001b[39mget_result()\n",
      "File \u001b[1;32m~\\anaconda3\\lib\\site-packages\\pandas\\core\\reshape\\concat.py:404\u001b[0m, in \u001b[0;36m_Concatenator.__init__\u001b[1;34m(self, objs, axis, join, keys, levels, names, ignore_index, verify_integrity, copy, sort)\u001b[0m\n\u001b[0;32m    401\u001b[0m     objs \u001b[38;5;241m=\u001b[39m \u001b[38;5;28mlist\u001b[39m(objs)\n\u001b[0;32m    403\u001b[0m \u001b[38;5;28;01mif\u001b[39;00m \u001b[38;5;28mlen\u001b[39m(objs) \u001b[38;5;241m==\u001b[39m \u001b[38;5;241m0\u001b[39m:\n\u001b[1;32m--> 404\u001b[0m     \u001b[38;5;28;01mraise\u001b[39;00m \u001b[38;5;167;01mValueError\u001b[39;00m(\u001b[38;5;124m\"\u001b[39m\u001b[38;5;124mNo objects to concatenate\u001b[39m\u001b[38;5;124m\"\u001b[39m)\n\u001b[0;32m    406\u001b[0m \u001b[38;5;28;01mif\u001b[39;00m keys \u001b[38;5;129;01mis\u001b[39;00m \u001b[38;5;28;01mNone\u001b[39;00m:\n\u001b[0;32m    407\u001b[0m     objs \u001b[38;5;241m=\u001b[39m \u001b[38;5;28mlist\u001b[39m(com\u001b[38;5;241m.\u001b[39mnot_none(\u001b[38;5;241m*\u001b[39mobjs))\n",
      "\u001b[1;31mValueError\u001b[0m: No objects to concatenate"
     ]
    }
   ],
   "source": [
    "names_dir = r'C:/Users/Jonathan Freeman/OneDrive/Desktop/'\n",
    "names_data_list = []\n",
    "names_columns = ['state', 'gender', 'year', 'name', 'babies']\n",
    "for file in os.listdir(names_dir):\n",
    "    if file.endswith('.TXT'):\n",
    "        names_data= pd.read_csv(names_dir + file, header=None, names=names_columns)\n",
    "        names_data_list.append(names_data)\n",
    "    else:\n",
    "        continue\n",
    "names_data = pd.concat(names_data_list)"
   ]
  },
  {
   "cell_type": "code",
   "execution_count": null,
   "id": "966451c8",
   "metadata": {},
   "outputs": [],
   "source": [
    "unique_names_per_gender = (\n",
    "data\n",
    ".groupby(['year','gener'])\n",
    ".name\n",
    ".nunique()\n",
    ".unstack()\n",
    ")"
   ]
  },
  {
   "cell_type": "code",
   "execution_count": null,
   "id": "66783594",
   "metadata": {},
   "outputs": [],
   "source": [
    "unique_names_per_gender.head()"
   ]
  },
  {
   "cell_type": "code",
   "execution_count": null,
   "id": "0413eb81",
   "metadata": {},
   "outputs": [],
   "source": [
    "total_babies = data.babies.sum()\n",
    "female_percent = data[data.gender=='F']['babies'].sum()/total_babies\n",
    "male_percent = data[data.gender=='M']['babies'].sum()/total_babies\n"
   ]
  },
  {
   "cell_type": "code",
   "execution_count": null,
   "id": "f5d88308",
   "metadata": {},
   "outputs": [],
   "source": [
    "female_percent"
   ]
  },
  {
   "cell_type": "code",
   "execution_count": null,
   "id": "3d8b64ad",
   "metadata": {},
   "outputs": [],
   "source": [
    "most_popular_names = (\n",
    "    data\n",
    "    .groupby(['name','gender']\n",
    "    .babies\n",
    "    .sum()\n",
    "    .reset_index()\n",
    "    .sort_values('babies',ascending=False)\n",
    ")"
   ]
  },
  {
   "cell_type": "code",
   "execution_count": null,
   "id": "f4fef2ae",
   "metadata": {},
   "outputs": [],
   "source": [
    "unique_names_per_gender.plot()"
   ]
  },
  {
   "cell_type": "code",
   "execution_count": null,
   "id": "e71b86d0",
   "metadata": {},
   "outputs": [],
   "source": [
    "unique_names_per_gender.plot(figsize=(10,8),lw=3, color=['blue','pink'])"
   ]
  },
  {
   "cell_type": "code",
   "execution_count": null,
   "id": "048facd3",
   "metadata": {},
   "outputs": [],
   "source": [
    "unique_names_per_gender.plot(figsize=(10,8),lw=3, color=['blue','pink'])\n",
    "sns.despine()"
   ]
  },
  {
   "cell_type": "code",
   "execution_count": null,
   "id": "f1343bf0",
   "metadata": {},
   "outputs": [],
   "source": [
    "unique_names_per_gender.plot(figsize=(10,8),lw=3, color=['blue','pink'])\n",
    "sns.despine()\n",
    "plt.xlabel('')\n",
    "plt.legend([])"
   ]
  },
  {
   "cell_type": "code",
   "execution_count": null,
   "id": "ec18930d",
   "metadata": {},
   "outputs": [],
   "source": [
    "unique_names_per_gender.plot(figsize=(10,8),lw=3, color=['blue','pink'])\n",
    "sns.despine()\n",
    "plt.xlabel('')\n",
    "plt.legend([],frameon=False)"
   ]
  },
  {
   "cell_type": "code",
   "execution_count": 1,
   "id": "50c5593d",
   "metadata": {},
   "outputs": [],
   "source": [
    "#How to add text to axes"
   ]
  },
  {
   "cell_type": "code",
   "execution_count": null,
   "id": "b8b4e624",
   "metadata": {},
   "outputs": [],
   "source": [
    "unique_names_per_gender.plot(figsize=(10,8),lw=3, color=['blue','pink'])\n",
    "sns.despine()\n",
    "plt.xlabel('')\n",
    "plt.legend([],frameon=False)\n",
    "plt.ylabel('Unique Babies Names in The data Set',\n",
    "          position=(-1,0,8),\n",
    "           rotation=0,\n",
    "           ha = 'left',\n",
    "               labelpad=145,\n",
    "               fontsize=14,\n",
    "               color='gray'\n",
    "          );"
   ]
  },
  {
   "cell_type": "code",
   "execution_count": null,
   "id": "f67537a3",
   "metadata": {},
   "outputs": [],
   "source": [
    "unique_names_per_gender.plot(figsize=(10,8),lw=3, color=['blue','pink'])\n",
    "sns.despine()\n",
    "plt.xlabel('')\n",
    "plt.legend([],frameon=False)\n",
    "plt.ylabel('Unique Babies Names in The data Set',\n",
    "          position=(-0.7,0.8)\n",
    "           rotation=0,\n",
    "           ha = 'left',\n",
    "               labelpad=120,\n",
    "               fontsize=14,\n",
    "               color='gray'\n",
    "          );"
   ]
  },
  {
   "cell_type": "code",
   "execution_count": null,
   "id": "f52a4152",
   "metadata": {},
   "outputs": [],
   "source": [
    "unique_names_per_gender.plot(figsize=(10,8),lw=3, color=['blue','pink'])\n",
    "sns.despine()\n",
    "plt.xlabel('')\n",
    "plt.legend([],frameon=False)\n",
    "plt.ylabel('Unique Babies Names in The data Set',\n",
    "          position=(-0.7,0.8)\n",
    "           rotation=0,\n",
    "           ha = 'left',\n",
    "               labelpad=120,\n",
    "               fontsize=14,\n",
    "               color='gray'\n",
    "               style='italic'\n",
    "          );"
   ]
  },
  {
   "cell_type": "code",
   "execution_count": null,
   "id": "26d6536e",
   "metadata": {},
   "outputs": [],
   "source": [
    "unique_names_per_gender.plot(figsize=(10,8),lw=3, color=['blue','pink'])\n",
    "sns.despine()\n",
    "plt.xlabel('')\n",
    "plt.legend([],frameon=False)\n",
    "plt.ylabel('Unique Babies Names in The data Set',\n",
    "          position=(-0.7,0.8)\n",
    "           rotation=0,\n",
    "           ha = 'left',\n",
    "               labelpad=120,\n",
    "               fontsize=14,\n",
    "               color='gray'\n",
    "          );\n",
    "plt.text(2022,5200,'Female',color='pink',fontsize=16,fontweight='bold')\n",
    "plt.text(2022,5200,'Male',color='pink',fontsize=16,fontweight='bold')"
   ]
  },
  {
   "cell_type": "code",
   "execution_count": null,
   "id": "09e04f32",
   "metadata": {},
   "outputs": [],
   "source": [
    "unique_names_per_gender.plot(figsize=(10,8),lw=3, color=['blue','pink'])\n",
    "sns.despine()\n",
    "plt.xlabel('')\n",
    "plt.legend([],frameon=False)\n",
    "plt.ylabel('Unique Babies Names in The data Set',\n",
    "          position=(-0.7,0.8)\n",
    "           rotation=0,\n",
    "           ha = 'left',\n",
    "               labelpad=120,\n",
    "               fontsize=14,\n",
    "               color='gray'\n",
    "          );\n",
    "plt.text(2022,5200,'Female',color='pink',fontsize=16,fontweight='bold')\n",
    "plt.text(2022,4200,'Male',color='pink',fontsize=16,fontweight='bold')\n",
    "plt.text(2022,5000,f'{female_percent*100:}%of babies',\n",
    "        fontstyle='italic',color='red')\n",
    "plt.text(2022,4000,f'{male_percent*100:.0f}%of babies',\n",
    "        fontstyle='italic',color='blue')"
   ]
  },
  {
   "cell_type": "code",
   "execution_count": null,
   "id": "ec8d3348",
   "metadata": {},
   "outputs": [],
   "source": []
  },
  {
   "cell_type": "code",
   "execution_count": null,
   "id": "81285c19",
   "metadata": {},
   "outputs": [],
   "source": []
  },
  {
   "cell_type": "code",
   "execution_count": null,
   "id": "cc26c98b",
   "metadata": {},
   "outputs": [],
   "source": []
  },
  {
   "cell_type": "code",
   "execution_count": null,
   "id": "d5b657dc",
   "metadata": {},
   "outputs": [],
   "source": []
  },
  {
   "cell_type": "code",
   "execution_count": null,
   "id": "e70d6b27",
   "metadata": {},
   "outputs": [],
   "source": []
  }
 ],
 "metadata": {
  "kernelspec": {
   "display_name": "Python 3 (ipykernel)",
   "language": "python",
   "name": "python3"
  },
  "language_info": {
   "codemirror_mode": {
    "name": "ipython",
    "version": 3
   },
   "file_extension": ".py",
   "mimetype": "text/x-python",
   "name": "python",
   "nbconvert_exporter": "python",
   "pygments_lexer": "ipython3",
   "version": "3.9.12"
  }
 },
 "nbformat": 4,
 "nbformat_minor": 5
}
