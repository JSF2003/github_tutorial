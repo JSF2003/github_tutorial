{
 "cells": [
  {
   "cell_type": "code",
   "execution_count": 1,
   "id": "f0a466e2",
   "metadata": {},
   "outputs": [
    {
     "data": {
      "text/plain": [
       "int"
      ]
     },
     "execution_count": 1,
     "metadata": {},
     "output_type": "execute_result"
    }
   ],
   "source": [
    "type(1)"
   ]
  },
  {
   "cell_type": "code",
   "execution_count": 2,
   "id": "386dc23f",
   "metadata": {},
   "outputs": [
    {
     "data": {
      "text/plain": [
       "float"
      ]
     },
     "execution_count": 2,
     "metadata": {},
     "output_type": "execute_result"
    }
   ],
   "source": [
    "type(3.14)"
   ]
  },
  {
   "cell_type": "code",
   "execution_count": 3,
   "id": "f5b77917",
   "metadata": {},
   "outputs": [
    {
     "data": {
      "text/plain": [
       "float"
      ]
     },
     "execution_count": 3,
     "metadata": {},
     "output_type": "execute_result"
    }
   ],
   "source": [
    "type(.33)"
   ]
  },
  {
   "cell_type": "code",
   "execution_count": 4,
   "id": "71747fbf",
   "metadata": {
    "scrolled": true
   },
   "outputs": [
    {
     "name": "stdout",
     "output_type": "stream",
     "text": [
      "Howard\n"
     ]
    }
   ],
   "source": [
    "print(\"Howard\")"
   ]
  },
  {
   "cell_type": "code",
   "execution_count": 5,
   "id": "00ae4d7c",
   "metadata": {},
   "outputs": [
    {
     "name": "stdout",
     "output_type": "stream",
     "text": [
      "Hello World\n"
     ]
    }
   ],
   "source": [
    "print(\"Hello World\")"
   ]
  },
  {
   "cell_type": "code",
   "execution_count": 6,
   "id": "957d0084",
   "metadata": {},
   "outputs": [],
   "source": [
    "x2=\"Hello\""
   ]
  },
  {
   "cell_type": "code",
   "execution_count": 7,
   "id": "337a528f",
   "metadata": {},
   "outputs": [
    {
     "data": {
      "text/plain": [
       "'Hello'"
      ]
     },
     "execution_count": 7,
     "metadata": {},
     "output_type": "execute_result"
    }
   ],
   "source": [
    "x2"
   ]
  },
  {
   "cell_type": "code",
   "execution_count": 8,
   "id": "db4756fa",
   "metadata": {},
   "outputs": [
    {
     "name": "stdout",
     "output_type": "stream",
     "text": [
      "10\n"
     ]
    }
   ],
   "source": [
    "x = 10\n",
    "print(x)"
   ]
  },
  {
   "cell_type": "code",
   "execution_count": 9,
   "id": "97938996",
   "metadata": {
    "scrolled": true
   },
   "outputs": [
    {
     "name": "stdout",
     "output_type": "stream",
     "text": [
      "Moussa Doumbia\n"
     ]
    }
   ],
   "source": [
    "Name = \"Moussa Doumbia\"\n",
    "print(Name)"
   ]
  },
  {
   "cell_type": "code",
   "execution_count": 10,
   "id": "60a76de5",
   "metadata": {},
   "outputs": [
    {
     "name": "stdout",
     "output_type": "stream",
     "text": [
      "Greetings John Johnson Welcome to our company\n"
     ]
    }
   ],
   "source": [
    "New_First = \"John\"\n",
    "New_Last = \"Johnson\"\n",
    "print(\"Greetings\", New_First, New_Last, 'Welcome to our company')"
   ]
  },
  {
   "cell_type": "code",
   "execution_count": 11,
   "id": "da906750",
   "metadata": {},
   "outputs": [
    {
     "name": "stdout",
     "output_type": "stream",
     "text": [
      "Greetings, John Johnson , welcome to our company\n"
     ]
    }
   ],
   "source": [
    "print('Greetings, {} {}'.format(New_First, New_Last),', welcome to our company')"
   ]
  },
  {
   "cell_type": "code",
   "execution_count": 12,
   "id": "169bf90d",
   "metadata": {},
   "outputs": [
    {
     "name": "stdout",
     "output_type": "stream",
     "text": [
      "Hello!,John\n"
     ]
    }
   ],
   "source": [
    "name = 'John'\n",
    "print(f\"Hello!,{name}\")"
   ]
  },
  {
   "cell_type": "code",
   "execution_count": 13,
   "id": "9efa9bd2",
   "metadata": {},
   "outputs": [],
   "source": [
    "name = 'Emani'\n",
    "greetings = 'Welcome to data science class'"
   ]
  },
  {
   "cell_type": "code",
   "execution_count": 17,
   "id": "a0d517bf",
   "metadata": {
    "scrolled": true
   },
   "outputs": [
    {
     "name": "stdout",
     "output_type": "stream",
     "text": [
      "Hello Emani\n",
      " Welcome to data science class\n"
     ]
    }
   ],
   "source": [
    "print('Hello {one}\\n {two}'.format(two=greetings, one=name))"
   ]
  },
  {
   "cell_type": "code",
   "execution_count": 18,
   "id": "53ae3a3a",
   "metadata": {},
   "outputs": [
    {
     "name": "stdout",
     "output_type": "stream",
     "text": [
      "HelloEmaniWelcome to data science class\n"
     ]
    }
   ],
   "source": [
    "print('Hello' +name +greetings)"
   ]
  },
  {
   "cell_type": "code",
   "execution_count": 19,
   "id": "223447aa",
   "metadata": {},
   "outputs": [],
   "source": [
    "name = 'naomi'"
   ]
  },
  {
   "cell_type": "code",
   "execution_count": 20,
   "id": "8068f1f1",
   "metadata": {},
   "outputs": [
    {
     "name": "stdout",
     "output_type": "stream",
     "text": [
      "NAOMI\n"
     ]
    }
   ],
   "source": [
    "print(name.upper())"
   ]
  },
  {
   "cell_type": "code",
   "execution_count": 21,
   "id": "54df90ba",
   "metadata": {},
   "outputs": [
    {
     "name": "stdout",
     "output_type": "stream",
     "text": [
      "Naomi\n"
     ]
    }
   ],
   "source": [
    "print(name.title())"
   ]
  },
  {
   "cell_type": "code",
   "execution_count": 22,
   "id": "46171cae",
   "metadata": {},
   "outputs": [],
   "source": [
    "second_name = 'JOHN'"
   ]
  },
  {
   "cell_type": "code",
   "execution_count": 23,
   "id": "00f122d9",
   "metadata": {},
   "outputs": [
    {
     "name": "stdout",
     "output_type": "stream",
     "text": [
      "naomi\n"
     ]
    }
   ],
   "source": [
    "print(name.lower())"
   ]
  },
  {
   "cell_type": "code",
   "execution_count": 24,
   "id": "0ccae968",
   "metadata": {},
   "outputs": [
    {
     "name": "stdout",
     "output_type": "stream",
     "text": [
      "john\n"
     ]
    }
   ],
   "source": [
    "print(second_name.lower( ))"
   ]
  },
  {
   "cell_type": "code",
   "execution_count": 25,
   "id": "5e1acf2a",
   "metadata": {},
   "outputs": [],
   "source": [
    "center_name = 'Saujan'"
   ]
  },
  {
   "cell_type": "code",
   "execution_count": 26,
   "id": "caa48cf6",
   "metadata": {},
   "outputs": [
    {
     "name": "stdout",
     "output_type": "stream",
     "text": [
      "Saujan\n"
     ]
    }
   ],
   "source": [
    "print(center_name)"
   ]
  },
  {
   "cell_type": "code",
   "execution_count": 27,
   "id": "f1100996",
   "metadata": {},
   "outputs": [
    {
     "name": "stdout",
     "output_type": "stream",
     "text": [
      "                           Saujan                           \n"
     ]
    }
   ],
   "source": [
    "print(center_name.center(60))"
   ]
  },
  {
   "cell_type": "code",
   "execution_count": 28,
   "id": "86cea1c3",
   "metadata": {},
   "outputs": [
    {
     "name": "stdout",
     "output_type": "stream",
     "text": [
      "0\n"
     ]
    }
   ],
   "source": [
    "print(center_name.count('s'))"
   ]
  },
  {
   "cell_type": "code",
   "execution_count": 29,
   "id": "5b1f56c8",
   "metadata": {},
   "outputs": [
    {
     "name": "stdout",
     "output_type": "stream",
     "text": [
      "1\n"
     ]
    }
   ],
   "source": [
    "print(center_name.count('S'))"
   ]
  },
  {
   "cell_type": "code",
   "execution_count": 30,
   "id": "361e210e",
   "metadata": {},
   "outputs": [
    {
     "name": "stdout",
     "output_type": "stream",
     "text": [
      "False\n"
     ]
    }
   ],
   "source": [
    "print(center_name.endswith('s'))"
   ]
  },
  {
   "cell_type": "code",
   "execution_count": 31,
   "id": "a59016fc",
   "metadata": {},
   "outputs": [],
   "source": [
    "num = '123'"
   ]
  },
  {
   "cell_type": "code",
   "execution_count": 32,
   "id": "97736e24",
   "metadata": {},
   "outputs": [
    {
     "data": {
      "text/plain": [
       "str"
      ]
     },
     "execution_count": 32,
     "metadata": {},
     "output_type": "execute_result"
    }
   ],
   "source": [
    "type(num)"
   ]
  },
  {
   "cell_type": "code",
   "execution_count": 33,
   "id": "e88069b9",
   "metadata": {},
   "outputs": [
    {
     "data": {
      "text/plain": [
       "True"
      ]
     },
     "execution_count": 33,
     "metadata": {},
     "output_type": "execute_result"
    }
   ],
   "source": [
    "num.isnumeric()"
   ]
  },
  {
   "cell_type": "code",
   "execution_count": 34,
   "id": "b696d826",
   "metadata": {},
   "outputs": [],
   "source": [
    "num_1 = num.isnumeric()"
   ]
  },
  {
   "cell_type": "code",
   "execution_count": 35,
   "id": "271e2fc1",
   "metadata": {},
   "outputs": [
    {
     "data": {
      "text/plain": [
       "bool"
      ]
     },
     "execution_count": 35,
     "metadata": {},
     "output_type": "execute_result"
    }
   ],
   "source": [
    "type(num_1)"
   ]
  },
  {
   "cell_type": "code",
   "execution_count": 36,
   "id": "9e6806c3",
   "metadata": {},
   "outputs": [],
   "source": [
    "last_name = '   Smith   '"
   ]
  },
  {
   "cell_type": "code",
   "execution_count": 37,
   "id": "db751e22",
   "metadata": {},
   "outputs": [
    {
     "data": {
      "text/plain": [
       "11"
      ]
     },
     "execution_count": 37,
     "metadata": {},
     "output_type": "execute_result"
    }
   ],
   "source": [
    "len(last_name)"
   ]
  },
  {
   "cell_type": "code",
   "execution_count": 38,
   "id": "03a2dea5",
   "metadata": {},
   "outputs": [],
   "source": [
    "r_name = last_name.rstrip()"
   ]
  },
  {
   "cell_type": "code",
   "execution_count": 39,
   "id": "09cfb171",
   "metadata": {},
   "outputs": [
    {
     "data": {
      "text/plain": [
       "'   Smith'"
      ]
     },
     "execution_count": 39,
     "metadata": {},
     "output_type": "execute_result"
    }
   ],
   "source": [
    "r_name"
   ]
  },
  {
   "cell_type": "code",
   "execution_count": 40,
   "id": "221b3b2b",
   "metadata": {},
   "outputs": [
    {
     "data": {
      "text/plain": [
       "8"
      ]
     },
     "execution_count": 40,
     "metadata": {},
     "output_type": "execute_result"
    }
   ],
   "source": [
    "len(r_name)"
   ]
  },
  {
   "cell_type": "code",
   "execution_count": 41,
   "id": "0cfced40",
   "metadata": {},
   "outputs": [],
   "source": [
    "l_name = last_name.lstrip()"
   ]
  },
  {
   "cell_type": "code",
   "execution_count": 6,
   "id": "0cc34818",
   "metadata": {},
   "outputs": [],
   "source": [
    "a_list = ['apply','orange','mango', 'banana']"
   ]
  },
  {
   "cell_type": "code",
   "execution_count": 8,
   "id": "3081f39b",
   "metadata": {},
   "outputs": [
    {
     "data": {
      "text/plain": [
       "list"
      ]
     },
     "execution_count": 8,
     "metadata": {},
     "output_type": "execute_result"
    }
   ],
   "source": [
    "type(a_list)"
   ]
  },
  {
   "cell_type": "code",
   "execution_count": 9,
   "id": "aae2c50a",
   "metadata": {},
   "outputs": [],
   "source": [
    "a_list.append('Peach')"
   ]
  },
  {
   "cell_type": "code",
   "execution_count": 10,
   "id": "8d141260",
   "metadata": {},
   "outputs": [
    {
     "data": {
      "text/plain": [
       "'orange'"
      ]
     },
     "execution_count": 10,
     "metadata": {},
     "output_type": "execute_result"
    }
   ],
   "source": [
    "a_list.pop(1)"
   ]
  },
  {
   "cell_type": "code",
   "execution_count": 11,
   "id": "d3f5c2e5",
   "metadata": {},
   "outputs": [
    {
     "data": {
      "text/plain": [
       "'apply'"
      ]
     },
     "execution_count": 11,
     "metadata": {},
     "output_type": "execute_result"
    }
   ],
   "source": [
    "a_list[0]"
   ]
  },
  {
   "cell_type": "code",
   "execution_count": 12,
   "id": "036a140a",
   "metadata": {},
   "outputs": [
    {
     "data": {
      "text/plain": [
       "'Peach'"
      ]
     },
     "execution_count": 12,
     "metadata": {},
     "output_type": "execute_result"
    }
   ],
   "source": [
    "a_list[3]"
   ]
  },
  {
   "cell_type": "code",
   "execution_count": 14,
   "id": "f1796537",
   "metadata": {},
   "outputs": [],
   "source": [
    "random_list = ['one','two','three','four','five','six','seven','eight','nine','ten']"
   ]
  },
  {
   "cell_type": "code",
   "execution_count": 16,
   "id": "03404ace",
   "metadata": {},
   "outputs": [],
   "source": [
    "random_list.append('seven')"
   ]
  },
  {
   "cell_type": "code",
   "execution_count": 19,
   "id": "ec769013",
   "metadata": {},
   "outputs": [
    {
     "data": {
      "text/plain": [
       "'seven'"
      ]
     },
     "execution_count": 19,
     "metadata": {},
     "output_type": "execute_result"
    }
   ],
   "source": [
    "random_list.pop(6)"
   ]
  },
  {
   "cell_type": "code",
   "execution_count": 20,
   "id": "1e66ce4b",
   "metadata": {},
   "outputs": [
    {
     "data": {
      "text/plain": [
       "'eight'"
      ]
     },
     "execution_count": 20,
     "metadata": {},
     "output_type": "execute_result"
    }
   ],
   "source": [
    "random_list[6]"
   ]
  },
  {
   "cell_type": "code",
   "execution_count": 22,
   "id": "4df1d56a",
   "metadata": {},
   "outputs": [
    {
     "data": {
      "text/plain": [
       "'seven'"
      ]
     },
     "execution_count": 22,
     "metadata": {},
     "output_type": "execute_result"
    }
   ],
   "source": [
    "random_list[-1]"
   ]
  },
  {
   "cell_type": "code",
   "execution_count": 23,
   "id": "683cd65c",
   "metadata": {},
   "outputs": [],
   "source": [
    "a_list.remove('mango')"
   ]
  },
  {
   "cell_type": "code",
   "execution_count": 24,
   "id": "740e737b",
   "metadata": {},
   "outputs": [
    {
     "data": {
      "text/plain": [
       "['apply', 'banana', 'Peach']"
      ]
     },
     "execution_count": 24,
     "metadata": {},
     "output_type": "execute_result"
    }
   ],
   "source": [
    "b_list = a_list.copy()\n",
    "b_list"
   ]
  },
  {
   "cell_type": "code",
   "execution_count": 25,
   "id": "69e117de",
   "metadata": {},
   "outputs": [
    {
     "data": {
      "text/plain": [
       "{'Make': 'Toyota', 'Model': 'Land Cruiser', 'Year': '2022'}"
      ]
     },
     "execution_count": 25,
     "metadata": {},
     "output_type": "execute_result"
    }
   ],
   "source": [
    "cars = {'Make':'Toyota','Model':'Land Cruiser','Year':'2022'}\n",
    "cars"
   ]
  },
  {
   "cell_type": "code",
   "execution_count": 26,
   "id": "6e3e4ce8",
   "metadata": {},
   "outputs": [
    {
     "data": {
      "text/plain": [
       "'Toyota'"
      ]
     },
     "execution_count": 26,
     "metadata": {},
     "output_type": "execute_result"
    }
   ],
   "source": [
    "cars['Make']"
   ]
  },
  {
   "cell_type": "code",
   "execution_count": 27,
   "id": "9093cad1",
   "metadata": {},
   "outputs": [],
   "source": [
    "cars['Year'] = 2023"
   ]
  },
  {
   "cell_type": "code",
   "execution_count": 28,
   "id": "7fff1b63",
   "metadata": {},
   "outputs": [
    {
     "data": {
      "text/plain": [
       "{'Make': 'Toyota', 'Model': 'Land Cruiser', 'Year': 2023}"
      ]
     },
     "execution_count": 28,
     "metadata": {},
     "output_type": "execute_result"
    }
   ],
   "source": [
    "cars"
   ]
  },
  {
   "cell_type": "code",
   "execution_count": 30,
   "id": "8d171737",
   "metadata": {},
   "outputs": [
    {
     "data": {
      "text/plain": [
       "{'Make': 'Toyota', 'Model': 'Land Cruiser', 'Year': 2023, 'Color': 'black'}"
      ]
     },
     "execution_count": 30,
     "metadata": {},
     "output_type": "execute_result"
    }
   ],
   "source": [
    "cars['Color'] = 'black'\n",
    "cars"
   ]
  },
  {
   "cell_type": "code",
   "execution_count": 32,
   "id": "918452b2",
   "metadata": {},
   "outputs": [
    {
     "data": {
      "text/plain": [
       "dict_keys(['Make', 'Model', 'Year', 'Color'])"
      ]
     },
     "execution_count": 32,
     "metadata": {},
     "output_type": "execute_result"
    }
   ],
   "source": [
    "cars.keys()"
   ]
  },
  {
   "cell_type": "code",
   "execution_count": 33,
   "id": "4370c399",
   "metadata": {},
   "outputs": [
    {
     "data": {
      "text/plain": [
       "dict_values(['Toyota', 'Land Cruiser', 2023, 'black'])"
      ]
     },
     "execution_count": 33,
     "metadata": {},
     "output_type": "execute_result"
    }
   ],
   "source": [
    "cars.values()"
   ]
  },
  {
   "cell_type": "code",
   "execution_count": 34,
   "id": "f460b628",
   "metadata": {},
   "outputs": [
    {
     "data": {
      "text/plain": [
       "dict_items([('Make', 'Toyota'), ('Model', 'Land Cruiser'), ('Year', 2023), ('Color', 'black')])"
      ]
     },
     "execution_count": 34,
     "metadata": {},
     "output_type": "execute_result"
    }
   ],
   "source": [
    "cars.items()"
   ]
  },
  {
   "cell_type": "code",
   "execution_count": 38,
   "id": "862afcb5",
   "metadata": {},
   "outputs": [
    {
     "data": {
      "text/plain": [
       "dict_items([('Make', 'Ram'), ('Model', '1400'), ('Year', '2007'), ('Owner', 'none'), ('Condition', 'bad'), ('Color', 'blue')])"
      ]
     },
     "execution_count": 38,
     "metadata": {},
     "output_type": "execute_result"
    }
   ],
   "source": [
    "trucks = {'Make':'Ram','Model':'1400','Year':'2007','Owner':'none','Condition':'good'}\n",
    "trucks['Condition'] = 'bad'\n",
    "trucks['Color'] = 'blue'\n",
    "trucks.values()\n",
    "trucks.items()"
   ]
  },
  {
   "cell_type": "code",
   "execution_count": null,
   "id": "7ef61fa8",
   "metadata": {},
   "outputs": [],
   "source": []
  }
 ],
 "metadata": {
  "kernelspec": {
   "display_name": "Python 3 (ipykernel)",
   "language": "python",
   "name": "python3"
  },
  "language_info": {
   "codemirror_mode": {
    "name": "ipython",
    "version": 3
   },
   "file_extension": ".py",
   "mimetype": "text/x-python",
   "name": "python",
   "nbconvert_exporter": "python",
   "pygments_lexer": "ipython3",
   "version": "3.9.12"
  }
 },
 "nbformat": 4,
 "nbformat_minor": 5
}
